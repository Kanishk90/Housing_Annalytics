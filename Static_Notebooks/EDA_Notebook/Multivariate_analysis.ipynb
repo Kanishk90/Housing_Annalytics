{
 "cells": [
  {
   "cell_type": "code",
   "execution_count": 1,
   "id": "eb2926e7-e24a-4a04-913b-c73279cfeb8b",
   "metadata": {},
   "outputs": [],
   "source": [
    "from pathlib import Path\n",
    "\n",
    "# Get the current notebook's directory\n",
    "CURRENT_NOTEBOOK_DIR = Path().resolve()\n",
    "\n",
    "# Assume project root is one level up from notebooks/\n",
    "BASE_DIR = CURRENT_NOTEBOOK_DIR.parent.parent\n",
    "\n",
    "# Define path to the data file\n",
    "RAW_DATA_PATH = BASE_DIR / \"Data_Gathering\" / \"City_Data\" / \"Gurgaon\" / \"Feature_Engineering\"\n",
    "\n",
    "# # Load the data\n",
    "# import pandas as pd\n",
    "# df = pd.read_csv(RAW_DATA_PATH)"
   ]
  },
  {
   "cell_type": "code",
   "execution_count": 2,
   "id": "c871224f-d3c7-494b-8a6f-efcae374bd57",
   "metadata": {},
   "outputs": [],
   "source": [
    "import numpy as np\n",
    "import pandas as pd\n",
    "import seaborn as sns\n",
    "import matplotlib.pyplot as plt"
   ]
  },
  {
   "cell_type": "code",
   "execution_count": 3,
   "id": "050fc182-ef82-4a30-a39c-5e117c53a3bf",
   "metadata": {},
   "outputs": [],
   "source": [
    "# To print sare rows and columns\n",
    "\n",
    "# pd.set_option('display.max_rows', None)\n",
    "# pd.set_option('display.max_columns', None)"
   ]
  },
  {
   "cell_type": "code",
   "execution_count": 4,
   "id": "cd3bb0dd-291c-45fd-9dd1-2150b9cdbf13",
   "metadata": {},
   "outputs": [
    {
     "data": {
      "text/html": [
       "<div>\n",
       "<style scoped>\n",
       "    .dataframe tbody tr th:only-of-type {\n",
       "        vertical-align: middle;\n",
       "    }\n",
       "\n",
       "    .dataframe tbody tr th {\n",
       "        vertical-align: top;\n",
       "    }\n",
       "\n",
       "    .dataframe thead th {\n",
       "        text-align: right;\n",
       "    }\n",
       "</style>\n",
       "<table border=\"1\" class=\"dataframe\">\n",
       "  <thead>\n",
       "    <tr style=\"text-align: right;\">\n",
       "      <th></th>\n",
       "      <th>property_type</th>\n",
       "      <th>society</th>\n",
       "      <th>sector</th>\n",
       "      <th>price</th>\n",
       "      <th>price_per_sqft</th>\n",
       "      <th>area</th>\n",
       "      <th>areaWithType</th>\n",
       "      <th>bedRoom</th>\n",
       "      <th>bathroom</th>\n",
       "      <th>balcony</th>\n",
       "      <th>...</th>\n",
       "      <th>super_built_up_area</th>\n",
       "      <th>built_up_area</th>\n",
       "      <th>carpet_area</th>\n",
       "      <th>study room</th>\n",
       "      <th>servant room</th>\n",
       "      <th>store room</th>\n",
       "      <th>pooja room</th>\n",
       "      <th>others</th>\n",
       "      <th>furnishing_type</th>\n",
       "      <th>luxury_score</th>\n",
       "    </tr>\n",
       "  </thead>\n",
       "  <tbody>\n",
       "    <tr>\n",
       "      <th>0</th>\n",
       "      <td>flat</td>\n",
       "      <td>signature global park 4</td>\n",
       "      <td>sector 36</td>\n",
       "      <td>0.82</td>\n",
       "      <td>7585.0</td>\n",
       "      <td>1081.0</td>\n",
       "      <td>Super Built up area 1081(100.43 sq.m.)Carpet a...</td>\n",
       "      <td>3</td>\n",
       "      <td>2</td>\n",
       "      <td>2</td>\n",
       "      <td>...</td>\n",
       "      <td>1081.0</td>\n",
       "      <td>NaN</td>\n",
       "      <td>650.0</td>\n",
       "      <td>0</td>\n",
       "      <td>0</td>\n",
       "      <td>0</td>\n",
       "      <td>0</td>\n",
       "      <td>0</td>\n",
       "      <td>1</td>\n",
       "      <td>8</td>\n",
       "    </tr>\n",
       "    <tr>\n",
       "      <th>1</th>\n",
       "      <td>flat</td>\n",
       "      <td>smart world gems</td>\n",
       "      <td>sector 89</td>\n",
       "      <td>0.95</td>\n",
       "      <td>8600.0</td>\n",
       "      <td>1105.0</td>\n",
       "      <td>Carpet area: 1103 (102.47 sq.m.)</td>\n",
       "      <td>2</td>\n",
       "      <td>2</td>\n",
       "      <td>2</td>\n",
       "      <td>...</td>\n",
       "      <td>NaN</td>\n",
       "      <td>NaN</td>\n",
       "      <td>1103.0</td>\n",
       "      <td>1</td>\n",
       "      <td>1</td>\n",
       "      <td>0</td>\n",
       "      <td>0</td>\n",
       "      <td>0</td>\n",
       "      <td>1</td>\n",
       "      <td>38</td>\n",
       "    </tr>\n",
       "    <tr>\n",
       "      <th>2</th>\n",
       "      <td>flat</td>\n",
       "      <td>pyramid elite</td>\n",
       "      <td>sector 86</td>\n",
       "      <td>0.46</td>\n",
       "      <td>79.0</td>\n",
       "      <td>58228.0</td>\n",
       "      <td>Carpet area: 58141 (5401.48 sq.m.)</td>\n",
       "      <td>2</td>\n",
       "      <td>2</td>\n",
       "      <td>1</td>\n",
       "      <td>...</td>\n",
       "      <td>NaN</td>\n",
       "      <td>NaN</td>\n",
       "      <td>58141.0</td>\n",
       "      <td>0</td>\n",
       "      <td>0</td>\n",
       "      <td>0</td>\n",
       "      <td>0</td>\n",
       "      <td>0</td>\n",
       "      <td>1</td>\n",
       "      <td>15</td>\n",
       "    </tr>\n",
       "    <tr>\n",
       "      <th>3</th>\n",
       "      <td>flat</td>\n",
       "      <td>breez global hill view</td>\n",
       "      <td>sohna road</td>\n",
       "      <td>0.32</td>\n",
       "      <td>5470.0</td>\n",
       "      <td>585.0</td>\n",
       "      <td>Built Up area: 1000 (92.9 sq.m.)Carpet area: 5...</td>\n",
       "      <td>2</td>\n",
       "      <td>2</td>\n",
       "      <td>1</td>\n",
       "      <td>...</td>\n",
       "      <td>NaN</td>\n",
       "      <td>1000.0</td>\n",
       "      <td>585.0</td>\n",
       "      <td>0</td>\n",
       "      <td>0</td>\n",
       "      <td>0</td>\n",
       "      <td>0</td>\n",
       "      <td>0</td>\n",
       "      <td>1</td>\n",
       "      <td>49</td>\n",
       "    </tr>\n",
       "    <tr>\n",
       "      <th>4</th>\n",
       "      <td>flat</td>\n",
       "      <td>bestech park view sanskruti</td>\n",
       "      <td>sector 92</td>\n",
       "      <td>1.60</td>\n",
       "      <td>8020.0</td>\n",
       "      <td>1995.0</td>\n",
       "      <td>Super Built up area 1995(185.34 sq.m.)Built Up...</td>\n",
       "      <td>3</td>\n",
       "      <td>4</td>\n",
       "      <td>3+</td>\n",
       "      <td>...</td>\n",
       "      <td>1995.0</td>\n",
       "      <td>1615.0</td>\n",
       "      <td>1476.0</td>\n",
       "      <td>0</td>\n",
       "      <td>1</td>\n",
       "      <td>0</td>\n",
       "      <td>0</td>\n",
       "      <td>1</td>\n",
       "      <td>2</td>\n",
       "      <td>174</td>\n",
       "    </tr>\n",
       "    <tr>\n",
       "      <th>...</th>\n",
       "      <td>...</td>\n",
       "      <td>...</td>\n",
       "      <td>...</td>\n",
       "      <td>...</td>\n",
       "      <td>...</td>\n",
       "      <td>...</td>\n",
       "      <td>...</td>\n",
       "      <td>...</td>\n",
       "      <td>...</td>\n",
       "      <td>...</td>\n",
       "      <td>...</td>\n",
       "      <td>...</td>\n",
       "      <td>...</td>\n",
       "      <td>...</td>\n",
       "      <td>...</td>\n",
       "      <td>...</td>\n",
       "      <td>...</td>\n",
       "      <td>...</td>\n",
       "      <td>...</td>\n",
       "      <td>...</td>\n",
       "      <td>...</td>\n",
       "    </tr>\n",
       "    <tr>\n",
       "      <th>3798</th>\n",
       "      <td>flat</td>\n",
       "      <td>pivotal devaan</td>\n",
       "      <td>sector 84</td>\n",
       "      <td>0.37</td>\n",
       "      <td>6346.0</td>\n",
       "      <td>583.0</td>\n",
       "      <td>Super Built up area 583(54.16 sq.m.)Carpet are...</td>\n",
       "      <td>2</td>\n",
       "      <td>2</td>\n",
       "      <td>1</td>\n",
       "      <td>...</td>\n",
       "      <td>583.0</td>\n",
       "      <td>NaN</td>\n",
       "      <td>483.0</td>\n",
       "      <td>0</td>\n",
       "      <td>0</td>\n",
       "      <td>0</td>\n",
       "      <td>0</td>\n",
       "      <td>0</td>\n",
       "      <td>1</td>\n",
       "      <td>73</td>\n",
       "    </tr>\n",
       "    <tr>\n",
       "      <th>3799</th>\n",
       "      <td>house</td>\n",
       "      <td>international city by sobha phase 1</td>\n",
       "      <td>sector 109</td>\n",
       "      <td>6.00</td>\n",
       "      <td>9634.0</td>\n",
       "      <td>6228.0</td>\n",
       "      <td>Plot area 692(578.6 sq.m.)</td>\n",
       "      <td>5</td>\n",
       "      <td>5</td>\n",
       "      <td>3+</td>\n",
       "      <td>...</td>\n",
       "      <td>NaN</td>\n",
       "      <td>6228.0</td>\n",
       "      <td>NaN</td>\n",
       "      <td>1</td>\n",
       "      <td>1</td>\n",
       "      <td>1</td>\n",
       "      <td>1</td>\n",
       "      <td>0</td>\n",
       "      <td>1</td>\n",
       "      <td>160</td>\n",
       "    </tr>\n",
       "    <tr>\n",
       "      <th>3800</th>\n",
       "      <td>flat</td>\n",
       "      <td>ansal api celebrity suites</td>\n",
       "      <td>sector 2</td>\n",
       "      <td>0.60</td>\n",
       "      <td>8163.0</td>\n",
       "      <td>735.0</td>\n",
       "      <td>Super Built up area 735(68.28 sq.m.)</td>\n",
       "      <td>1</td>\n",
       "      <td>1</td>\n",
       "      <td>1</td>\n",
       "      <td>...</td>\n",
       "      <td>735.0</td>\n",
       "      <td>NaN</td>\n",
       "      <td>NaN</td>\n",
       "      <td>0</td>\n",
       "      <td>0</td>\n",
       "      <td>0</td>\n",
       "      <td>0</td>\n",
       "      <td>0</td>\n",
       "      <td>2</td>\n",
       "      <td>67</td>\n",
       "    </tr>\n",
       "    <tr>\n",
       "      <th>3801</th>\n",
       "      <td>house</td>\n",
       "      <td>independent</td>\n",
       "      <td>sector 43</td>\n",
       "      <td>15.50</td>\n",
       "      <td>28233.0</td>\n",
       "      <td>5490.0</td>\n",
       "      <td>Plot area 610(510.04 sq.m.)</td>\n",
       "      <td>5</td>\n",
       "      <td>6</td>\n",
       "      <td>3</td>\n",
       "      <td>...</td>\n",
       "      <td>NaN</td>\n",
       "      <td>5490.0</td>\n",
       "      <td>NaN</td>\n",
       "      <td>1</td>\n",
       "      <td>1</td>\n",
       "      <td>1</td>\n",
       "      <td>1</td>\n",
       "      <td>0</td>\n",
       "      <td>1</td>\n",
       "      <td>76</td>\n",
       "    </tr>\n",
       "    <tr>\n",
       "      <th>3802</th>\n",
       "      <td>flat</td>\n",
       "      <td>m3m ikonic</td>\n",
       "      <td>sector 68</td>\n",
       "      <td>1.78</td>\n",
       "      <td>9128.0</td>\n",
       "      <td>1950.0</td>\n",
       "      <td>Super Built up area 1950(181.16 sq.m.)Built Up...</td>\n",
       "      <td>3</td>\n",
       "      <td>3</td>\n",
       "      <td>3+</td>\n",
       "      <td>...</td>\n",
       "      <td>1950.0</td>\n",
       "      <td>1845.0</td>\n",
       "      <td>1530.0</td>\n",
       "      <td>0</td>\n",
       "      <td>0</td>\n",
       "      <td>0</td>\n",
       "      <td>0</td>\n",
       "      <td>0</td>\n",
       "      <td>2</td>\n",
       "      <td>126</td>\n",
       "    </tr>\n",
       "  </tbody>\n",
       "</table>\n",
       "<p>3803 rows × 23 columns</p>\n",
       "</div>"
      ],
      "text/plain": [
       "     property_type                              society      sector  price  \\\n",
       "0             flat              signature global park 4   sector 36   0.82   \n",
       "1             flat                     smart world gems   sector 89   0.95   \n",
       "2             flat                        pyramid elite   sector 86   0.46   \n",
       "3             flat               breez global hill view  sohna road   0.32   \n",
       "4             flat          bestech park view sanskruti   sector 92   1.60   \n",
       "...            ...                                  ...         ...    ...   \n",
       "3798          flat                       pivotal devaan   sector 84   0.37   \n",
       "3799         house  international city by sobha phase 1  sector 109   6.00   \n",
       "3800          flat           ansal api celebrity suites    sector 2   0.60   \n",
       "3801         house                          independent   sector 43  15.50   \n",
       "3802          flat                           m3m ikonic   sector 68   1.78   \n",
       "\n",
       "      price_per_sqft     area  \\\n",
       "0             7585.0   1081.0   \n",
       "1             8600.0   1105.0   \n",
       "2               79.0  58228.0   \n",
       "3             5470.0    585.0   \n",
       "4             8020.0   1995.0   \n",
       "...              ...      ...   \n",
       "3798          6346.0    583.0   \n",
       "3799          9634.0   6228.0   \n",
       "3800          8163.0    735.0   \n",
       "3801         28233.0   5490.0   \n",
       "3802          9128.0   1950.0   \n",
       "\n",
       "                                           areaWithType  bedRoom  bathroom  \\\n",
       "0     Super Built up area 1081(100.43 sq.m.)Carpet a...        3         2   \n",
       "1                      Carpet area: 1103 (102.47 sq.m.)        2         2   \n",
       "2                    Carpet area: 58141 (5401.48 sq.m.)        2         2   \n",
       "3     Built Up area: 1000 (92.9 sq.m.)Carpet area: 5...        2         2   \n",
       "4     Super Built up area 1995(185.34 sq.m.)Built Up...        3         4   \n",
       "...                                                 ...      ...       ...   \n",
       "3798  Super Built up area 583(54.16 sq.m.)Carpet are...        2         2   \n",
       "3799                         Plot area 692(578.6 sq.m.)        5         5   \n",
       "3800               Super Built up area 735(68.28 sq.m.)        1         1   \n",
       "3801                        Plot area 610(510.04 sq.m.)        5         6   \n",
       "3802  Super Built up area 1950(181.16 sq.m.)Built Up...        3         3   \n",
       "\n",
       "     balcony  ...  super_built_up_area built_up_area carpet_area  study room  \\\n",
       "0          2  ...               1081.0           NaN       650.0           0   \n",
       "1          2  ...                  NaN           NaN      1103.0           1   \n",
       "2          1  ...                  NaN           NaN     58141.0           0   \n",
       "3          1  ...                  NaN        1000.0       585.0           0   \n",
       "4         3+  ...               1995.0        1615.0      1476.0           0   \n",
       "...      ...  ...                  ...           ...         ...         ...   \n",
       "3798       1  ...                583.0           NaN       483.0           0   \n",
       "3799      3+  ...                  NaN        6228.0         NaN           1   \n",
       "3800       1  ...                735.0           NaN         NaN           0   \n",
       "3801       3  ...                  NaN        5490.0         NaN           1   \n",
       "3802      3+  ...               1950.0        1845.0      1530.0           0   \n",
       "\n",
       "      servant room  store room  pooja room  others  furnishing_type  \\\n",
       "0                0           0           0       0                1   \n",
       "1                1           0           0       0                1   \n",
       "2                0           0           0       0                1   \n",
       "3                0           0           0       0                1   \n",
       "4                1           0           0       1                2   \n",
       "...            ...         ...         ...     ...              ...   \n",
       "3798             0           0           0       0                1   \n",
       "3799             1           1           1       0                1   \n",
       "3800             0           0           0       0                2   \n",
       "3801             1           1           1       0                1   \n",
       "3802             0           0           0       0                2   \n",
       "\n",
       "      luxury_score  \n",
       "0                8  \n",
       "1               38  \n",
       "2               15  \n",
       "3               49  \n",
       "4              174  \n",
       "...            ...  \n",
       "3798            73  \n",
       "3799           160  \n",
       "3800            67  \n",
       "3801            76  \n",
       "3802           126  \n",
       "\n",
       "[3803 rows x 23 columns]"
      ]
     },
     "execution_count": 4,
     "metadata": {},
     "output_type": "execute_result"
    }
   ],
   "source": [
    "df_fe = pd.read_csv(RAW_DATA_PATH/\"gurgaon_properties_after_featureEng.csv\")\n",
    "df_fe"
   ]
  },
  {
   "cell_type": "markdown",
   "id": "2d454122-28df-4eb1-b7d1-15cdf85b87c4",
   "metadata": {},
   "source": [
    "### property_type vs price"
   ]
  },
  {
   "cell_type": "code",
   "execution_count": 6,
   "id": "e6e04dbe-a91b-450f-809e-091f433e22f6",
   "metadata": {},
   "outputs": [
    {
     "data": {
      "text/plain": [
       "<Axes: xlabel='property_type', ylabel='price'>"
      ]
     },
     "execution_count": 6,
     "metadata": {},
     "output_type": "execute_result"
    },
    {
     "data": {
      "image/png": "[encoded data removed]",
      "text/plain": [
       "<Figure size 640x480 with 1 Axes>"
      ]
     },
     "metadata": {},
     "output_type": "display_data"
    }
   ],
   "source": [
    "sns.barplot(x=df_fe['property_type'], y=df_fe['price'], estimator=np.median)"
   ]
  },
  {
   "cell_type": "code",
   "execution_count": 8,
   "id": "b5b7efd5-31c5-4dec-8510-83c9ba904ec9",
   "metadata": {},
   "outputs": [
    {
     "data": {
      "text/plain": [
       "<Axes: xlabel='property_type', ylabel='price'>"
      ]
     },
     "execution_count": 8,
     "metadata": {},
     "output_type": "execute_result"
    },
    {
     "data": {
      "image/png": "[encoded data removed]",
      "text/plain": [
       "<Figure size 640x480 with 1 Axes>"
      ]
     },
     "metadata": {},
     "output_type": "display_data"
    }
   ],
   "source": [
    "sns.boxplot(x=df_fe['property_type'], y=df_fe['price'])"
   ]
  },
  {
   "cell_type": "markdown",
   "id": "562ec7e0-2608-42f2-b6dc-d91082c5c88d",
   "metadata": {},
   "source": [
    "### property_type vs area"
   ]
  },
  {
   "cell_type": "code",
   "execution_count": 10,
   "id": "1dbd8ccc-3496-4556-99b2-817cc86504e3",
   "metadata": {},
   "outputs": [
    {
     "data": {
      "text/plain": [
       "<Axes: xlabel='property_type', ylabel='built_up_area'>"
      ]
     },
     "execution_count": 10,
     "metadata": {},
     "output_type": "execute_result"
    },
    {
     "data": {
      "image/png": "[encoded data removed]",
      "text/plain": [
       "<Figure size 640x480 with 1 Axes>"
      ]
     },
     "metadata": {},
     "output_type": "display_data"
    }
   ],
   "source": [
    "sns.barplot(x=df_fe['property_type'], y=df_fe['built_up_area'], estimator=np.median)"
   ]
  },
  {
   "cell_type": "code",
   "execution_count": 11,
   "id": "d4773228-5084-435b-8595-fc7f4bcb1bb9",
   "metadata": {},
   "outputs": [
    {
     "data": {
      "text/plain": [
       "<Axes: xlabel='property_type', ylabel='built_up_area'>"
      ]
     },
     "execution_count": 11,
     "metadata": {},
     "output_type": "execute_result"
    },
    {
     "data": {
      "image/png": "[encoded data removed]",
      "text/plain": [
       "<Figure size 640x480 with 1 Axes>"
      ]
     },
     "metadata": {},
     "output_type": "display_data"
    }
   ],
   "source": [
    "sns.boxplot(x=df_fe['property_type'], y=df_fe['built_up_area'])"
   ]
  },
  {
   "cell_type": "code",
   "execution_count": 13,
   "id": "1164ced4-45a7-4079-a909-8ccf0b5543db",
   "metadata": {},
   "outputs": [],
   "source": [
    "# removing that crazy outlier\n",
    "df_fe = df_fe[df_fe['built_up_area'] != 737147]"
   ]
  },
  {
   "cell_type": "code",
   "execution_count": 14,
   "id": "df60de77-5edf-4514-9095-4138f83d0098",
   "metadata": {},
   "outputs": [
    {
     "data": {
      "text/plain": [
       "<Axes: xlabel='property_type', ylabel='built_up_area'>"
      ]
     },
     "execution_count": 14,
     "metadata": {},
     "output_type": "execute_result"
    },
    {
     "data": {
      "image/png": "[encoded data removed]",
      "text/plain": [
       "<Figure size 640x480 with 1 Axes>"
      ]
     },
     "metadata": {},
     "output_type": "display_data"
    }
   ],
   "source": [
    "sns.boxplot(x=df_fe['property_type'], y=df_fe['built_up_area'])"
   ]
  },
  {
   "cell_type": "markdown",
   "id": "dbad4981-65be-460a-ae3e-938435165183",
   "metadata": {},
   "source": [
    "### property_type vs price_per_sqft"
   ]
  }
 ],
 "metadata": {
  "kernelspec": {
   "display_name": "Python 3 (ipykernel)",
   "language": "python",
   "name": "python3"
  },
  "language_info": {
   "codemirror_mode": {
    "name": "ipython",
    "version": 3
   },
   "file_extension": ".py",
   "mimetype": "text/x-python",
   "name": "python",
   "nbconvert_exporter": "python",
   "pygments_lexer": "ipython3",
   "version": "3.13.3"
  }
 },
 "nbformat": 4,
 "nbformat_minor": 5
}
